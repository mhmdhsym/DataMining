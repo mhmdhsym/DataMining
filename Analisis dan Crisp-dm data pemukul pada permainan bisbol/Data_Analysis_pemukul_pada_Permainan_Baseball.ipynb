{
  "nbformat": 4,
  "nbformat_minor": 0,
  "metadata": {
    "kernelspec": {
      "display_name": "Python 3",
      "language": "python",
      "name": "python3"
    },
    "language_info": {
      "codemirror_mode": {
        "name": "ipython",
        "version": 3
      },
      "file_extension": ".py",
      "mimetype": "text/x-python",
      "name": "python",
      "nbconvert_exporter": "python",
      "pygments_lexer": "ipython3",
      "version": "3.6.8"
    },
    "colab": {
      "name": "Data Analysis  - pemukul pada Permainan Baseball.ipynb",
      "provenance": [],
      "collapsed_sections": []
    }
  },
  "cells": [
    {
      "cell_type": "markdown",
      "metadata": {
        "id": "iF1-3kAEldzO"
      },
      "source": [
        "# Data Analysis  - Batter pada Permainan Baseball\n",
        "\n",
        "Muhammad Hisyam -\n",
        "A11.2018.11106"
      ]
    },
    {
      "cell_type": "code",
      "metadata": {
        "id": "3-OajZ8ZldzU"
      },
      "source": [
        "## load packages\n",
        "\n",
        "import pandas as pd\n",
        "import numpy as np\n",
        "import seaborn as sns\n",
        "import matplotlib.pyplot as plt\n",
        "import statsmodels.api as smf"
      ],
      "execution_count": null,
      "outputs": []
    },
    {
      "cell_type": "code",
      "metadata": {
        "colab": {
          "base_uri": "https://localhost:8080/",
          "height": 224
        },
        "id": "ejr4ANujldzW",
        "outputId": "5fce9440-47d5-47ba-e521-8d8877b97745"
      },
      "source": [
        "## load data\n",
        "\n",
        "Batting = pd.read_csv('Batting.csv')\n",
        "Batting.head()"
      ],
      "execution_count": null,
      "outputs": [
        {
          "output_type": "execute_result",
          "data": {
            "text/html": [
              "<div>\n",
              "<style scoped>\n",
              "    .dataframe tbody tr th:only-of-type {\n",
              "        vertical-align: middle;\n",
              "    }\n",
              "\n",
              "    .dataframe tbody tr th {\n",
              "        vertical-align: top;\n",
              "    }\n",
              "\n",
              "    .dataframe thead th {\n",
              "        text-align: right;\n",
              "    }\n",
              "</style>\n",
              "<table border=\"1\" class=\"dataframe\">\n",
              "  <thead>\n",
              "    <tr style=\"text-align: right;\">\n",
              "      <th></th>\n",
              "      <th>playerID</th>\n",
              "      <th>yearID</th>\n",
              "      <th>stint</th>\n",
              "      <th>teamID</th>\n",
              "      <th>lgID</th>\n",
              "      <th>G</th>\n",
              "      <th>G_batting</th>\n",
              "      <th>AB</th>\n",
              "      <th>R</th>\n",
              "      <th>H</th>\n",
              "      <th>2B</th>\n",
              "      <th>3B</th>\n",
              "      <th>HR</th>\n",
              "      <th>RBI</th>\n",
              "      <th>SB</th>\n",
              "      <th>CS</th>\n",
              "      <th>BB</th>\n",
              "      <th>SO</th>\n",
              "      <th>IBB</th>\n",
              "      <th>HBP</th>\n",
              "      <th>SH</th>\n",
              "      <th>SF</th>\n",
              "      <th>GIDP</th>\n",
              "      <th>G_old</th>\n",
              "    </tr>\n",
              "  </thead>\n",
              "  <tbody>\n",
              "    <tr>\n",
              "      <th>0</th>\n",
              "      <td>aardsda01</td>\n",
              "      <td>2004</td>\n",
              "      <td>1</td>\n",
              "      <td>SFN</td>\n",
              "      <td>NL</td>\n",
              "      <td>11</td>\n",
              "      <td>11</td>\n",
              "      <td>0.0</td>\n",
              "      <td>0.0</td>\n",
              "      <td>0.0</td>\n",
              "      <td>0.0</td>\n",
              "      <td>0.0</td>\n",
              "      <td>0.0</td>\n",
              "      <td>0.0</td>\n",
              "      <td>0.0</td>\n",
              "      <td>0.0</td>\n",
              "      <td>0.0</td>\n",
              "      <td>0.0</td>\n",
              "      <td>0.0</td>\n",
              "      <td>0.0</td>\n",
              "      <td>0.0</td>\n",
              "      <td>0.0</td>\n",
              "      <td>0.0</td>\n",
              "      <td>11.0</td>\n",
              "    </tr>\n",
              "    <tr>\n",
              "      <th>1</th>\n",
              "      <td>aardsda01</td>\n",
              "      <td>2006</td>\n",
              "      <td>1</td>\n",
              "      <td>CHN</td>\n",
              "      <td>NL</td>\n",
              "      <td>45</td>\n",
              "      <td>43</td>\n",
              "      <td>2.0</td>\n",
              "      <td>0.0</td>\n",
              "      <td>0.0</td>\n",
              "      <td>0.0</td>\n",
              "      <td>0.0</td>\n",
              "      <td>0.0</td>\n",
              "      <td>0.0</td>\n",
              "      <td>0.0</td>\n",
              "      <td>0.0</td>\n",
              "      <td>0.0</td>\n",
              "      <td>0.0</td>\n",
              "      <td>0.0</td>\n",
              "      <td>0.0</td>\n",
              "      <td>1.0</td>\n",
              "      <td>0.0</td>\n",
              "      <td>0.0</td>\n",
              "      <td>45.0</td>\n",
              "    </tr>\n",
              "    <tr>\n",
              "      <th>2</th>\n",
              "      <td>aardsda01</td>\n",
              "      <td>2007</td>\n",
              "      <td>1</td>\n",
              "      <td>CHA</td>\n",
              "      <td>AL</td>\n",
              "      <td>25</td>\n",
              "      <td>2</td>\n",
              "      <td>0.0</td>\n",
              "      <td>0.0</td>\n",
              "      <td>0.0</td>\n",
              "      <td>0.0</td>\n",
              "      <td>0.0</td>\n",
              "      <td>0.0</td>\n",
              "      <td>0.0</td>\n",
              "      <td>0.0</td>\n",
              "      <td>0.0</td>\n",
              "      <td>0.0</td>\n",
              "      <td>0.0</td>\n",
              "      <td>0.0</td>\n",
              "      <td>0.0</td>\n",
              "      <td>0.0</td>\n",
              "      <td>0.0</td>\n",
              "      <td>0.0</td>\n",
              "      <td>2.0</td>\n",
              "    </tr>\n",
              "    <tr>\n",
              "      <th>3</th>\n",
              "      <td>aardsda01</td>\n",
              "      <td>2008</td>\n",
              "      <td>1</td>\n",
              "      <td>BOS</td>\n",
              "      <td>AL</td>\n",
              "      <td>47</td>\n",
              "      <td>5</td>\n",
              "      <td>1.0</td>\n",
              "      <td>0.0</td>\n",
              "      <td>0.0</td>\n",
              "      <td>0.0</td>\n",
              "      <td>0.0</td>\n",
              "      <td>0.0</td>\n",
              "      <td>0.0</td>\n",
              "      <td>0.0</td>\n",
              "      <td>0.0</td>\n",
              "      <td>0.0</td>\n",
              "      <td>1.0</td>\n",
              "      <td>0.0</td>\n",
              "      <td>0.0</td>\n",
              "      <td>0.0</td>\n",
              "      <td>0.0</td>\n",
              "      <td>0.0</td>\n",
              "      <td>5.0</td>\n",
              "    </tr>\n",
              "    <tr>\n",
              "      <th>4</th>\n",
              "      <td>aardsda01</td>\n",
              "      <td>2009</td>\n",
              "      <td>1</td>\n",
              "      <td>SEA</td>\n",
              "      <td>AL</td>\n",
              "      <td>73</td>\n",
              "      <td>3</td>\n",
              "      <td>0.0</td>\n",
              "      <td>0.0</td>\n",
              "      <td>0.0</td>\n",
              "      <td>0.0</td>\n",
              "      <td>0.0</td>\n",
              "      <td>0.0</td>\n",
              "      <td>0.0</td>\n",
              "      <td>0.0</td>\n",
              "      <td>0.0</td>\n",
              "      <td>0.0</td>\n",
              "      <td>0.0</td>\n",
              "      <td>0.0</td>\n",
              "      <td>0.0</td>\n",
              "      <td>0.0</td>\n",
              "      <td>0.0</td>\n",
              "      <td>0.0</td>\n",
              "      <td>NaN</td>\n",
              "    </tr>\n",
              "  </tbody>\n",
              "</table>\n",
              "</div>"
            ],
            "text/plain": [
              "    playerID  yearID  stint teamID lgID   G  ...  IBB  HBP   SH   SF  GIDP  G_old\n",
              "0  aardsda01    2004      1    SFN   NL  11  ...  0.0  0.0  0.0  0.0   0.0   11.0\n",
              "1  aardsda01    2006      1    CHN   NL  45  ...  0.0  0.0  1.0  0.0   0.0   45.0\n",
              "2  aardsda01    2007      1    CHA   AL  25  ...  0.0  0.0  0.0  0.0   0.0    2.0\n",
              "3  aardsda01    2008      1    BOS   AL  47  ...  0.0  0.0  0.0  0.0   0.0    5.0\n",
              "4  aardsda01    2009      1    SEA   AL  73  ...  0.0  0.0  0.0  0.0   0.0    NaN\n",
              "\n",
              "[5 rows x 24 columns]"
            ]
          },
          "metadata": {
            "tags": []
          },
          "execution_count": 65
        }
      ]
    },
    {
      "cell_type": "markdown",
      "metadata": {
        "id": "tsLX_5DGldzb"
      },
      "source": [
        "## Langkah 1: Pertanyaan Riset / Pernyataan Masalah\n",
        "\n",
        "1) Apa hubungan antara hit (H) dan run batted in (RBI) pada pemain baseball liga utama?\n",
        "\n",
        "##### CATATAN:\n",
        "\n",
        "- Hipotesis: Jumlah H yang lebih tinggi akan menghasilkan RBI yang lebih besar dalam satu musim\n",
        "- Batasan potensial: Variabel lain dapat mempengaruhi hubungan antara H dan RBI, membutuhkan data tambahan untuk analisis di masa mendatang. Misalnya, di mana dalam urutan batting, batter memukul, jumlah peluang yang dimiliki batter dengan pelari dalam posisi mencetak gol, jenis lemparan yang dihadapi batter pada musim itu."
      ]
    },
    {
      "cell_type": "markdown",
      "metadata": {
        "id": "b7IC27LAldzc"
      },
      "source": [
        "## Langkah 2: Strategi Pengumpulan / Pengukuran Data\n",
        "\n",
        "1) Jenis data apa yang dibutuhkan\n",
        "\n",
        "- Sumber data: Tabel Batting Database @maxtoki Github\n",
        "- Masalah data: Data memukul disediakan dalam tabel dari tahun 1871 hingga 2011. Data musim yang lebih lama mungkin tidak ada.\n",
        "\n",
        "2) Pengumpulan / Pengukuran\n",
        "\n",
        "- Tidak ada data tambahan\n",
        "\n",
        "3) Pembersihan Data"
      ]
    },
    {
      "cell_type": "code",
      "metadata": {
        "id": "EKBHNsMXldzd"
      },
      "source": [
        "df = Batting"
      ],
      "execution_count": null,
      "outputs": []
    },
    {
      "cell_type": "code",
      "metadata": {
        "colab": {
          "base_uri": "https://localhost:8080/"
        },
        "id": "FgQI8tfQldze",
        "outputId": "e1fbbd66-334c-45f7-8c4f-364f51cd6dd6"
      },
      "source": [
        "df.groupby(['yearID']).size()"
      ],
      "execution_count": null,
      "outputs": [
        {
          "output_type": "execute_result",
          "data": {
            "text/plain": [
              "yearID\n",
              "1871     115\n",
              "1872     156\n",
              "1873     125\n",
              "1874     123\n",
              "1875     218\n",
              "        ... \n",
              "2007    1385\n",
              "2008    1385\n",
              "2009    1249\n",
              "2010    1245\n",
              "2011    1240\n",
              "Length: 141, dtype: int64"
            ]
          },
          "metadata": {
            "tags": []
          },
          "execution_count": 67
        }
      ]
    },
    {
      "cell_type": "code",
      "metadata": {
        "colab": {
          "base_uri": "https://localhost:8080/"
        },
        "id": "HqLlr2nNldzf",
        "outputId": "aa071fed-6ed5-46f3-9fd7-07cddcebbb7c"
      },
      "source": [
        "df[['H', 'RBI']].isna().sum()"
      ],
      "execution_count": null,
      "outputs": [
        {
          "output_type": "execute_result",
          "data": {
            "text/plain": [
              "H      6284\n",
              "RBI    6708\n",
              "dtype: int64"
            ]
          },
          "metadata": {
            "tags": []
          },
          "execution_count": 68
        }
      ]
    },
    {
      "cell_type": "markdown",
      "metadata": {
        "id": "u95D6srZldzf"
      },
      "source": [
        "> Sepertinya tidak ada kolom kosong, H tapi ada 6708 di kolom RBI."
      ]
    },
    {
      "cell_type": "code",
      "metadata": {
        "colab": {
          "base_uri": "https://localhost:8080/"
        },
        "id": "Y1imxKOlldzg",
        "outputId": "08038f0f-a4e5-43e0-8cbd-8967cb25efe1"
      },
      "source": [
        "df = df.dropna(subset = ['H', 'RBI'])\n",
        "\n",
        "df[['H', 'RBI']].isna().sum()"
      ],
      "execution_count": null,
      "outputs": [
        {
          "output_type": "execute_result",
          "data": {
            "text/plain": [
              "H      0\n",
              "RBI    0\n",
              "dtype: int64"
            ]
          },
          "metadata": {
            "tags": []
          },
          "execution_count": 69
        }
      ]
    },
    {
      "cell_type": "code",
      "metadata": {
        "colab": {
          "base_uri": "https://localhost:8080/"
        },
        "id": "0LOYJaNzldzh",
        "outputId": "c99da39d-84db-4900-bd50-bb5ab60cb74c"
      },
      "source": [
        "df.shape"
      ],
      "execution_count": null,
      "outputs": [
        {
          "output_type": "execute_result",
          "data": {
            "text/plain": [
              "(88487, 24)"
            ]
          },
          "metadata": {
            "tags": []
          },
          "execution_count": 70
        }
      ]
    },
    {
      "cell_type": "markdown",
      "metadata": {
        "id": "EPxn_2bDldzi"
      },
      "source": [
        "> Sepertinya nilai yang hilang hanya ada di tahun 1882 dan 1884.\n",
        "\n",
        "> Untuk keperluan analisis ini, saya mencoba menggunakan  tahun-tahun modern dan membatasi diri pada musim 2010 dan yang lebih besar."
      ]
    },
    {
      "cell_type": "code",
      "metadata": {
        "id": "ksLUYPj4ldzj"
      },
      "source": [
        "df = df[df['yearID'] > 2009]"
      ],
      "execution_count": null,
      "outputs": []
    },
    {
      "cell_type": "code",
      "metadata": {
        "colab": {
          "base_uri": "https://localhost:8080/"
        },
        "id": "s4WUqQl-ldzj",
        "outputId": "1ca449a7-45d2-456f-ede1-e0406eefc60e"
      },
      "source": [
        "df.groupby(['yearID']).size()"
      ],
      "execution_count": null,
      "outputs": [
        {
          "output_type": "execute_result",
          "data": {
            "text/plain": [
              "yearID\n",
              "2010    1245\n",
              "2011    1240\n",
              "dtype: int64"
            ]
          },
          "metadata": {
            "tags": []
          },
          "execution_count": 72
        }
      ]
    },
    {
      "cell_type": "markdown",
      "metadata": {
        "id": "-Bb2Lpf2ldzk"
      },
      "source": [
        "Ini hanya data dari 2010-2011."
      ]
    },
    {
      "cell_type": "code",
      "metadata": {
        "colab": {
          "base_uri": "https://localhost:8080/",
          "height": 350
        },
        "id": "8z-WR9Xtldzk",
        "outputId": "c7c31c25-3a84-4a9a-f344-33487d548878"
      },
      "source": [
        "sns.boxplot(df['H'])"
      ],
      "execution_count": null,
      "outputs": [
        {
          "output_type": "stream",
          "text": [
            "/usr/local/lib/python3.7/dist-packages/seaborn/_decorators.py:43: FutureWarning: Pass the following variable as a keyword arg: x. From version 0.12, the only valid positional argument will be `data`, and passing other arguments without an explicit keyword will result in an error or misinterpretation.\n",
            "  FutureWarning\n"
          ],
          "name": "stderr"
        },
        {
          "output_type": "execute_result",
          "data": {
            "text/plain": [
              "<matplotlib.axes._subplots.AxesSubplot at 0x7f8cfb95b3d0>"
            ]
          },
          "metadata": {
            "tags": []
          },
          "execution_count": 73
        },
        {
          "output_type": "display_data",
          "data": {
            "image/png": "[encoded data removed]",
            "text/plain": [
              "<Figure size 432x288 with 1 Axes>"
            ]
          },
          "metadata": {
            "tags": [],
            "needs_background": "light"
          }
        }
      ]
    },
    {
      "cell_type": "code",
      "metadata": {
        "colab": {
          "base_uri": "https://localhost:8080/"
        },
        "id": "98HCTnx6ldzl",
        "outputId": "6350f539-5171-4772-b106-3128d3d09899"
      },
      "source": [
        "df['H'].quantile(q = (0, 0.25, 0.5, 0.75, 1))"
      ],
      "execution_count": null,
      "outputs": [
        {
          "output_type": "execute_result",
          "data": {
            "text/plain": [
              "0.00      0.0\n",
              "0.25      0.0\n",
              "0.50      6.0\n",
              "0.75     52.0\n",
              "1.00    214.0\n",
              "Name: H, dtype: float64"
            ]
          },
          "metadata": {
            "tags": []
          },
          "execution_count": 74
        }
      ]
    },
    {
      "cell_type": "markdown",
      "metadata": {
        "id": "JNlJAinEldzm"
      },
      "source": [
        "> hasil: bahwa pemain dengan banyak AB(At Bat), Kemunculan di plate akan memiliki lebih banyak peluang untuk melakukan hit dan berpotensi lebih banyak peluang untuk menghasilkan run."
      ]
    },
    {
      "cell_type": "code",
      "metadata": {
        "id": "q1Ntsqduldzm"
      },
      "source": [
        "df = df[df['H'] >= 50]"
      ],
      "execution_count": null,
      "outputs": []
    },
    {
      "cell_type": "code",
      "metadata": {
        "colab": {
          "base_uri": "https://localhost:8080/"
        },
        "id": "PdD_uH2Tldzn",
        "outputId": "fcb82ace-fb7d-4c27-af68-b21c4c05484e"
      },
      "source": [
        "df.shape"
      ],
      "execution_count": null,
      "outputs": [
        {
          "output_type": "execute_result",
          "data": {
            "text/plain": [
              "(640, 24)"
            ]
          },
          "metadata": {
            "tags": []
          },
          "execution_count": 76
        }
      ]
    },
    {
      "cell_type": "markdown",
      "metadata": {
        "id": "CQULQkGqldzo"
      },
      "source": [
        "## Langkah 3: Visualisasikan & Ringkas Data\n",
        "\n",
        "- Visual H dan RBI"
      ]
    },
    {
      "cell_type": "code",
      "metadata": {
        "colab": {
          "base_uri": "https://localhost:8080/",
          "height": 366
        },
        "id": "ZdxP1-PSldzp",
        "outputId": "50d0c9ed-abbb-4eb0-b97c-4acb466731ee"
      },
      "source": [
        "## Hits = jumlah rata-rata hit dalam satu musim adalah sekitar 100\n",
        "\n",
        "sns.distplot(df['H']).set_title('Season H Totals for Players with >= 171 AB (Seasons 2010-2011)')"
      ],
      "execution_count": null,
      "outputs": [
        {
          "output_type": "stream",
          "text": [
            "/usr/local/lib/python3.7/dist-packages/seaborn/distributions.py:2557: FutureWarning: `distplot` is a deprecated function and will be removed in a future version. Please adapt your code to use either `displot` (a figure-level function with similar flexibility) or `histplot` (an axes-level function for histograms).\n",
            "  warnings.warn(msg, FutureWarning)\n"
          ],
          "name": "stderr"
        },
        {
          "output_type": "execute_result",
          "data": {
            "text/plain": [
              "Text(0.5, 1.0, 'Season H Totals for Players with >= 171 AB (Seasons 2010-2011)')"
            ]
          },
          "metadata": {
            "tags": []
          },
          "execution_count": 77
        },
        {
          "output_type": "display_data",
          "data": {
            "image/png": "[encoded data removed]",
            "text/plain": [
              "<Figure size 432x288 with 1 Axes>"
            ]
          },
          "metadata": {
            "tags": [],
            "needs_background": "light"
          }
        }
      ]
    },
    {
      "cell_type": "code",
      "metadata": {
        "colab": {
          "base_uri": "https://localhost:8080/",
          "height": 366
        },
        "id": "CrZ-E4aOldzr",
        "outputId": "2e29ee3f-65e6-4f3d-a0d7-962d6a414bdb"
      },
      "source": [
        "## RBI = jumlah rata-rata RBI sekitar 40.\n",
        "\n",
        "sns.distplot(df['RBI']).set_title('Season RBI Totals for Players with >= 171 AB (Seasons 2010-2011)')"
      ],
      "execution_count": null,
      "outputs": [
        {
          "output_type": "stream",
          "text": [
            "/usr/local/lib/python3.7/dist-packages/seaborn/distributions.py:2557: FutureWarning: `distplot` is a deprecated function and will be removed in a future version. Please adapt your code to use either `displot` (a figure-level function with similar flexibility) or `histplot` (an axes-level function for histograms).\n",
            "  warnings.warn(msg, FutureWarning)\n"
          ],
          "name": "stderr"
        },
        {
          "output_type": "execute_result",
          "data": {
            "text/plain": [
              "Text(0.5, 1.0, 'Season RBI Totals for Players with >= 171 AB (Seasons 2010-2011)')"
            ]
          },
          "metadata": {
            "tags": []
          },
          "execution_count": 78
        },
        {
          "output_type": "display_data",
          "data": {
            "image/png": "[encoded data removed]",
            "text/plain": [
              "<Figure size 432x288 with 1 Axes>"
            ]
          },
          "metadata": {
            "tags": [],
            "needs_background": "light"
          }
        }
      ]
    },
    {
      "cell_type": "markdown",
      "metadata": {
        "id": "0jkJ_JLGldzs"
      },
      "source": [
        "- jumlah rata-rata hit dalam satu musim adalah sekitar 100 dan jumlah rata-rata RBI sekitar 40."
      ]
    },
    {
      "cell_type": "code",
      "metadata": {
        "colab": {
          "base_uri": "https://localhost:8080/",
          "height": 458
        },
        "id": "rr0v6Hbildzt",
        "outputId": "5d5f8170-8af3-4012-e7ea-ea952dc572f3"
      },
      "source": [
        "sns.jointplot(x = 'H', y = 'RBI', data = df, kind = 'reg')"
      ],
      "execution_count": null,
      "outputs": [
        {
          "output_type": "execute_result",
          "data": {
            "text/plain": [
              "<seaborn.axisgrid.JointGrid at 0x7f8cfb82c690>"
            ]
          },
          "metadata": {
            "tags": []
          },
          "execution_count": 79
        },
        {
          "output_type": "display_data",
          "data": {
            "image/png": "[encoded data removed]",
            "text/plain": [
              "<Figure size 432x432 with 3 Axes>"
            ]
          },
          "metadata": {
            "tags": [],
            "needs_background": "light"
          }
        }
      ]
    },
    {
      "cell_type": "markdown",
      "metadata": {
        "id": "GizrOPJ-ldzu"
      },
      "source": [
        "- Kita bisa melihat hubungan antara H dan RBI\n",
        "- Menghasilkan beberapa statistik ringkasan"
      ]
    },
    {
      "cell_type": "code",
      "metadata": {
        "colab": {
          "base_uri": "https://localhost:8080/"
        },
        "id": "k2jm8H2Cldzu",
        "outputId": "0b2a0ff3-d0e1-405c-a00c-c35fdae45710"
      },
      "source": [
        "df[['H', 'RBI']].mean()"
      ],
      "execution_count": null,
      "outputs": [
        {
          "output_type": "execute_result",
          "data": {
            "text/plain": [
              "H      109.948437\n",
              "RBI     52.543750\n",
              "dtype: float64"
            ]
          },
          "metadata": {
            "tags": []
          },
          "execution_count": 80
        }
      ]
    },
    {
      "cell_type": "code",
      "metadata": {
        "colab": {
          "base_uri": "https://localhost:8080/"
        },
        "id": "WGdy03bJldzv",
        "outputId": "35018c3c-2bd2-4b97-9308-52c7e9d33848"
      },
      "source": [
        "df[['H', 'RBI']].std()"
      ],
      "execution_count": null,
      "outputs": [
        {
          "output_type": "execute_result",
          "data": {
            "text/plain": [
              "H      40.192715\n",
              "RBI    25.823973\n",
              "dtype: float64"
            ]
          },
          "metadata": {
            "tags": []
          },
          "execution_count": 81
        }
      ]
    },
    {
      "cell_type": "markdown",
      "metadata": {
        "id": "GVSow1rMldzv"
      },
      "source": [
        "##### Mean & SD\n",
        "\n",
        "- H = 110 ± 40\n",
        "- RBI = 52 ± 25"
      ]
    },
    {
      "cell_type": "code",
      "metadata": {
        "colab": {
          "base_uri": "https://localhost:8080/",
          "height": 111
        },
        "id": "ryJYB_1Kldzw",
        "outputId": "4373bf65-47ce-43d4-a0c5-34473998818d"
      },
      "source": [
        "df[['H', 'RBI']].corr()"
      ],
      "execution_count": null,
      "outputs": [
        {
          "output_type": "execute_result",
          "data": {
            "text/html": [
              "<div>\n",
              "<style scoped>\n",
              "    .dataframe tbody tr th:only-of-type {\n",
              "        vertical-align: middle;\n",
              "    }\n",
              "\n",
              "    .dataframe tbody tr th {\n",
              "        vertical-align: top;\n",
              "    }\n",
              "\n",
              "    .dataframe thead th {\n",
              "        text-align: right;\n",
              "    }\n",
              "</style>\n",
              "<table border=\"1\" class=\"dataframe\">\n",
              "  <thead>\n",
              "    <tr style=\"text-align: right;\">\n",
              "      <th></th>\n",
              "      <th>H</th>\n",
              "      <th>RBI</th>\n",
              "    </tr>\n",
              "  </thead>\n",
              "  <tbody>\n",
              "    <tr>\n",
              "      <th>H</th>\n",
              "      <td>1.000000</td>\n",
              "      <td>0.789627</td>\n",
              "    </tr>\n",
              "    <tr>\n",
              "      <th>RBI</th>\n",
              "      <td>0.789627</td>\n",
              "      <td>1.000000</td>\n",
              "    </tr>\n",
              "  </tbody>\n",
              "</table>\n",
              "</div>"
            ],
            "text/plain": [
              "            H       RBI\n",
              "H    1.000000  0.789627\n",
              "RBI  0.789627  1.000000"
            ]
          },
          "metadata": {
            "tags": []
          },
          "execution_count": 83
        }
      ]
    },
    {
      "cell_type": "markdown",
      "metadata": {
        "id": "AqK9KQUildzw"
      },
      "source": [
        "Korelasi antara H dan RBI adalah 0,78\n",
        "\n",
        "\n"
      ]
    },
    {
      "cell_type": "markdown",
      "metadata": {
        "id": "vFqp6AQlldzx"
      },
      "source": [
        "## Langkah 4: Pengembangan Model / Interpretasi\n",
        "\n",
        "- membuat model regresi sederhana"
      ]
    },
    {
      "cell_type": "code",
      "metadata": {
        "id": "7QEnrgUIldzx"
      },
      "source": [
        "y = df['RBI']\n",
        "X = df['H']\n",
        "\n",
        "X = smf.add_constant(X)\n",
        "\n",
        "fit_lm = smf.OLS(y, X).fit()"
      ],
      "execution_count": null,
      "outputs": []
    },
    {
      "cell_type": "code",
      "metadata": {
        "colab": {
          "base_uri": "https://localhost:8080/",
          "height": 444
        },
        "id": "Y1AdUZ36ldzy",
        "outputId": "b187b569-e808-4455-cc73-439dcde909e0"
      },
      "source": [
        "fit_lm.summary()"
      ],
      "execution_count": null,
      "outputs": [
        {
          "output_type": "execute_result",
          "data": {
            "text/html": [
              "<table class=\"simpletable\">\n",
              "<caption>OLS Regression Results</caption>\n",
              "<tr>\n",
              "  <th>Dep. Variable:</th>           <td>RBI</td>       <th>  R-squared:         </th> <td>   0.624</td> \n",
              "</tr>\n",
              "<tr>\n",
              "  <th>Model:</th>                   <td>OLS</td>       <th>  Adj. R-squared:    </th> <td>   0.623</td> \n",
              "</tr>\n",
              "<tr>\n",
              "  <th>Method:</th>             <td>Least Squares</td>  <th>  F-statistic:       </th> <td>   1057.</td> \n",
              "</tr>\n",
              "<tr>\n",
              "  <th>Date:</th>             <td>Mon, 24 May 2021</td> <th>  Prob (F-statistic):</th> <td>1.85e-137</td>\n",
              "</tr>\n",
              "<tr>\n",
              "  <th>Time:</th>                 <td>14:11:43</td>     <th>  Log-Likelihood:    </th> <td> -2675.9</td> \n",
              "</tr>\n",
              "<tr>\n",
              "  <th>No. Observations:</th>      <td>   640</td>      <th>  AIC:               </th> <td>   5356.</td> \n",
              "</tr>\n",
              "<tr>\n",
              "  <th>Df Residuals:</th>          <td>   638</td>      <th>  BIC:               </th> <td>   5365.</td> \n",
              "</tr>\n",
              "<tr>\n",
              "  <th>Df Model:</th>              <td>     1</td>      <th>                     </th>     <td> </td>    \n",
              "</tr>\n",
              "<tr>\n",
              "  <th>Covariance Type:</th>      <td>nonrobust</td>    <th>                     </th>     <td> </td>    \n",
              "</tr>\n",
              "</table>\n",
              "<table class=\"simpletable\">\n",
              "<tr>\n",
              "    <td></td>       <th>coef</th>     <th>std err</th>      <th>t</th>      <th>P>|t|</th>  <th>[0.025</th>    <th>0.975]</th>  \n",
              "</tr>\n",
              "<tr>\n",
              "  <th>const</th> <td>   -3.2373</td> <td>    1.827</td> <td>   -1.772</td> <td> 0.077</td> <td>   -6.825</td> <td>    0.350</td>\n",
              "</tr>\n",
              "<tr>\n",
              "  <th>H</th>     <td>    0.5073</td> <td>    0.016</td> <td>   32.505</td> <td> 0.000</td> <td>    0.477</td> <td>    0.538</td>\n",
              "</tr>\n",
              "</table>\n",
              "<table class=\"simpletable\">\n",
              "<tr>\n",
              "  <th>Omnibus:</th>       <td>10.544</td> <th>  Durbin-Watson:     </th> <td>   1.405</td>\n",
              "</tr>\n",
              "<tr>\n",
              "  <th>Prob(Omnibus):</th> <td> 0.005</td> <th>  Jarque-Bera (JB):  </th> <td>  17.587</td>\n",
              "</tr>\n",
              "<tr>\n",
              "  <th>Skew:</th>          <td>-0.003</td> <th>  Prob(JB):          </th> <td>0.000152</td>\n",
              "</tr>\n",
              "<tr>\n",
              "  <th>Kurtosis:</th>      <td> 3.812</td> <th>  Cond. No.          </th> <td>    341.</td>\n",
              "</tr>\n",
              "</table><br/><br/>Warnings:<br/>[1] Standard Errors assume that the covariance matrix of the errors is correctly specified."
            ],
            "text/plain": [
              "<class 'statsmodels.iolib.summary.Summary'>\n",
              "\"\"\"\n",
              "                            OLS Regression Results                            \n",
              "==============================================================================\n",
              "Dep. Variable:                    RBI   R-squared:                       0.624\n",
              "Model:                            OLS   Adj. R-squared:                  0.623\n",
              "Method:                 Least Squares   F-statistic:                     1057.\n",
              "Date:                Mon, 24 May 2021   Prob (F-statistic):          1.85e-137\n",
              "Time:                        14:11:43   Log-Likelihood:                -2675.9\n",
              "No. Observations:                 640   AIC:                             5356.\n",
              "Df Residuals:                     638   BIC:                             5365.\n",
              "Df Model:                           1                                         \n",
              "Covariance Type:            nonrobust                                         \n",
              "==============================================================================\n",
              "                 coef    std err          t      P>|t|      [0.025      0.975]\n",
              "------------------------------------------------------------------------------\n",
              "const         -3.2373      1.827     -1.772      0.077      -6.825       0.350\n",
              "H              0.5073      0.016     32.505      0.000       0.477       0.538\n",
              "==============================================================================\n",
              "Omnibus:                       10.544   Durbin-Watson:                   1.405\n",
              "Prob(Omnibus):                  0.005   Jarque-Bera (JB):               17.587\n",
              "Skew:                          -0.003   Prob(JB):                     0.000152\n",
              "Kurtosis:                       3.812   Cond. No.                         341.\n",
              "==============================================================================\n",
              "\n",
              "Warnings:\n",
              "[1] Standard Errors assume that the covariance matrix of the errors is correctly specified.\n",
              "\"\"\""
            ]
          },
          "metadata": {
            "tags": []
          },
          "execution_count": 85
        }
      ]
    },
    {
      "cell_type": "markdown",
      "metadata": {
        "id": "ZMIVDff2ldzz"
      },
      "source": [
        ""
      ]
    },
    {
      "cell_type": "markdown",
      "metadata": {
        "id": "k0CiYf-hldzz"
      },
      "source": [
        "## Langkah 5: Evaluasi Model\n",
        "\n",
        "- Diagnostik model plot"
      ]
    },
    {
      "cell_type": "code",
      "metadata": {
        "id": "C7k16Ogdldz0"
      },
      "source": [
        "fitted_y = fit_lm.fittedvalues\n",
        "residuals = fit_lm.resid"
      ],
      "execution_count": null,
      "outputs": []
    },
    {
      "cell_type": "code",
      "metadata": {
        "colab": {
          "base_uri": "https://localhost:8080/",
          "height": 296
        },
        "id": "aPf5pvIildz0",
        "outputId": "ff713c9b-a082-4848-acde-60a94f4e6e39"
      },
      "source": [
        "model_plot = sns.residplot(x = fitted_y, y = residuals,\n",
        "             lowess = True,\n",
        "             scatter_kws = {'alpha': 0.5},\n",
        "             line_kws = {'color': 'red', 'lw': 2})\n",
        "\n",
        "model_plot.set(xlabel = \"Fitted\", ylabel = \"Residuals\")"
      ],
      "execution_count": null,
      "outputs": [
        {
          "output_type": "execute_result",
          "data": {
            "text/plain": [
              "[Text(0, 0.5, 'Residuals'), Text(0.5, 0, 'Fitted')]"
            ]
          },
          "metadata": {
            "tags": []
          },
          "execution_count": 87
        },
        {
          "output_type": "display_data",
          "data": {
            "image/png": "[encoded data removed]",
            "text/plain": [
              "<Figure size 432x288 with 1 Axes>"
            ]
          },
          "metadata": {
            "tags": [],
            "needs_background": "light"
          }
        }
      ]
    },
    {
      "cell_type": "code",
      "metadata": {
        "colab": {
          "base_uri": "https://localhost:8080/",
          "height": 350
        },
        "id": "oF1pU6KMldz1",
        "outputId": "df9b24cf-f8f5-407c-e590-7e6b3f17f8ec"
      },
      "source": [
        "plt.hist(x = residuals)"
      ],
      "execution_count": null,
      "outputs": [
        {
          "output_type": "execute_result",
          "data": {
            "text/plain": [
              "(array([  1.,   8.,  19.,  75., 171., 200., 113.,  37.,  13.,   3.]),\n",
              " array([-62.33310782, -50.42953718, -38.52596654, -26.6223959 ,\n",
              "        -14.71882525,  -2.81525461,   9.08831603,  20.99188667,\n",
              "         32.89545731,  44.79902795,  56.7025986 ]),\n",
              " <a list of 10 Patch objects>)"
            ]
          },
          "metadata": {
            "tags": []
          },
          "execution_count": 88
        },
        {
          "output_type": "display_data",
          "data": {
            "image/png": "[encoded data removed]",
            "text/plain": [
              "<Figure size 432x288 with 1 Axes>"
            ]
          },
          "metadata": {
            "tags": [],
            "needs_background": "light"
          }
        }
      ]
    },
    {
      "cell_type": "code",
      "metadata": {
        "colab": {
          "base_uri": "https://localhost:8080/",
          "height": 312
        },
        "id": "H0rTtWrcldz2",
        "outputId": "891de6eb-f843-4c7b-ddfb-46805a194ddc"
      },
      "source": [
        "plt.scatter(x = fitted_y, y = df['RBI'], c = df['H'])\n",
        "plt.xlabel(\"diprediksi RBI\")\n",
        "plt.ylabel(\"yang diamati RBI\")\n",
        "plt.title(\"Observed ~ Predicted RBI colored by the number of H a player had\")"
      ],
      "execution_count": null,
      "outputs": [
        {
          "output_type": "execute_result",
          "data": {
            "text/plain": [
              "Text(0.5, 1.0, 'Observed ~ Predicted RBI colored by the number of H a player had')"
            ]
          },
          "metadata": {
            "tags": []
          },
          "execution_count": 89
        },
        {
          "output_type": "display_data",
          "data": {
            "image/png": "[encoded data removed]",
            "text/plain": [
              "<Figure size 432x288 with 1 Axes>"
            ]
          },
          "metadata": {
            "tags": [],
            "needs_background": "light"
          }
        }
      ]
    },
    {
      "cell_type": "markdown",
      "metadata": {
        "id": "avK_7Iuildz2"
      },
      "source": [
        ""
      ]
    },
    {
      "cell_type": "code",
      "metadata": {
        "colab": {
          "base_uri": "https://localhost:8080/"
        },
        "id": "Qfv2e7G3ldz2",
        "outputId": "a0cce5f8-13a9-41cb-995d-6360840994ef"
      },
      "source": [
        "sq_residuals = residuals**2\n",
        "mean_sq_resid = sq_residuals.mean()\n",
        "rmse = np.sqrt(mean_sq_resid)\n",
        "rmse"
      ],
      "execution_count": null,
      "outputs": [
        {
          "output_type": "execute_result",
          "data": {
            "text/plain": [
              "15.832870524255947"
            ]
          },
          "metadata": {
            "tags": []
          },
          "execution_count": 90
        }
      ]
    },
    {
      "cell_type": "markdown",
      "metadata": {
        "id": "NHo9mfUildz3"
      },
      "source": [
        "## Langkah 6: Komunikasi Hasil\n",
        "\n",
        "1) Pertanyaan penelitian adalah untuk menguji hubungan antara H dan RBI pada pemain bisbol liga utama. Tampaknya ada hubungan antara kedua variabel dengan lebih banyak yang menghasilkan jumlah Proses yang lebih tinggi. Namun, dengan peningkatan jumlah, prediksi model menjadi lebih tidak terarah.\n",
        "\n",
        "2) Prediksi yang lebih baik dapat dibuat dengan lebih banyak data yang dapat memberikan konteks seputar hit (situasi, pitching, urutan barisan, dll) dan harus dikumpulkan untuk analisis di masa mendatang."
      ]
    }
  ]
}